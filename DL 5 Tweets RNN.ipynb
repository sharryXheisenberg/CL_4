{
 "cells": [
  {
   "cell_type": "code",
   "execution_count": null,
   "id": "66e4620b",
   "metadata": {},
   "outputs": [],
   "source": [
    "# Step 1: Imports"
   ]
  },
  {
   "cell_type": "code",
   "execution_count": 40,
   "id": "35291f43",
   "metadata": {},
   "outputs": [],
   "source": [
    "import pandas as pd\n",
    "import numpy as np\n",
    "import matplotlib.pyplot as plt\n",
    "import seaborn as sns\n",
    "\n",
    "from sklearn.model_selection import train_test_split\n",
    "from sklearn.preprocessing import LabelEncoder\n",
    "from sklearn.feature_extraction.text import TfidfVectorizer\n",
    "\n",
    "from sklearn.metrics.pairwise import cosine_similarity\n",
    "\n",
    "from tensorflow.keras.utils import to_categorical\n",
    "from tensorflow.keras.layers import Embedding, SimpleRNN, Dense\n",
    "from tensorflow.keras.models import Sequential\n",
    "from tensorflow.keras.preprocessing.sequence import pad_sequences\n",
    "from tensorflow.keras.preprocessing.text import Tokenizer\n",
    "\n",
    "import networkx as nx"
   ]
  },
  {
   "cell_type": "code",
   "execution_count": null,
   "id": "f034ebea",
   "metadata": {},
   "outputs": [],
   "source": [
    "# Step 2: Load and Clean Data"
   ]
  },
  {
   "cell_type": "code",
   "execution_count": 7,
   "id": "4656427e",
   "metadata": {},
   "outputs": [],
   "source": [
    "df = pd.read_csv(\"Tweets.csv\")"
   ]
  },
  {
   "cell_type": "code",
   "execution_count": 55,
   "id": "cbca4673",
   "metadata": {},
   "outputs": [
    {
     "data": {
      "text/plain": [
       "(27480, 5)"
      ]
     },
     "execution_count": 55,
     "metadata": {},
     "output_type": "execute_result"
    }
   ],
   "source": [
    "df.shape"
   ]
  },
  {
   "cell_type": "code",
   "execution_count": 9,
   "id": "9036f5f9",
   "metadata": {},
   "outputs": [
    {
     "data": {
      "text/html": [
       "<div>\n",
       "<style scoped>\n",
       "    .dataframe tbody tr th:only-of-type {\n",
       "        vertical-align: middle;\n",
       "    }\n",
       "\n",
       "    .dataframe tbody tr th {\n",
       "        vertical-align: top;\n",
       "    }\n",
       "\n",
       "    .dataframe thead th {\n",
       "        text-align: right;\n",
       "    }\n",
       "</style>\n",
       "<table border=\"1\" class=\"dataframe\">\n",
       "  <thead>\n",
       "    <tr style=\"text-align: right;\">\n",
       "      <th></th>\n",
       "      <th>textID</th>\n",
       "      <th>text</th>\n",
       "      <th>selected_text</th>\n",
       "      <th>sentiment</th>\n",
       "    </tr>\n",
       "  </thead>\n",
       "  <tbody>\n",
       "    <tr>\n",
       "      <th>0</th>\n",
       "      <td>cb774db0d1</td>\n",
       "      <td>I`d have responded, if I were going</td>\n",
       "      <td>I`d have responded, if I were going</td>\n",
       "      <td>neutral</td>\n",
       "    </tr>\n",
       "    <tr>\n",
       "      <th>1</th>\n",
       "      <td>549e992a42</td>\n",
       "      <td>Sooo SAD I will miss you here in San Diego!!!</td>\n",
       "      <td>Sooo SAD</td>\n",
       "      <td>negative</td>\n",
       "    </tr>\n",
       "    <tr>\n",
       "      <th>2</th>\n",
       "      <td>088c60f138</td>\n",
       "      <td>my boss is bullying me...</td>\n",
       "      <td>bullying me</td>\n",
       "      <td>negative</td>\n",
       "    </tr>\n",
       "    <tr>\n",
       "      <th>3</th>\n",
       "      <td>9642c003ef</td>\n",
       "      <td>what interview! leave me alone</td>\n",
       "      <td>leave me alone</td>\n",
       "      <td>negative</td>\n",
       "    </tr>\n",
       "    <tr>\n",
       "      <th>4</th>\n",
       "      <td>358bd9e861</td>\n",
       "      <td>Sons of ****, why couldn`t they put them on t...</td>\n",
       "      <td>Sons of ****,</td>\n",
       "      <td>negative</td>\n",
       "    </tr>\n",
       "  </tbody>\n",
       "</table>\n",
       "</div>"
      ],
      "text/plain": [
       "       textID                                               text  \\\n",
       "0  cb774db0d1                I`d have responded, if I were going   \n",
       "1  549e992a42      Sooo SAD I will miss you here in San Diego!!!   \n",
       "2  088c60f138                          my boss is bullying me...   \n",
       "3  9642c003ef                     what interview! leave me alone   \n",
       "4  358bd9e861   Sons of ****, why couldn`t they put them on t...   \n",
       "\n",
       "                         selected_text sentiment  \n",
       "0  I`d have responded, if I were going   neutral  \n",
       "1                             Sooo SAD  negative  \n",
       "2                          bullying me  negative  \n",
       "3                       leave me alone  negative  \n",
       "4                        Sons of ****,  negative  "
      ]
     },
     "execution_count": 9,
     "metadata": {},
     "output_type": "execute_result"
    }
   ],
   "source": [
    "df.head()"
   ]
  },
  {
   "cell_type": "code",
   "execution_count": 10,
   "id": "25e19e89",
   "metadata": {},
   "outputs": [
    {
     "data": {
      "text/plain": [
       "textID           0\n",
       "text             1\n",
       "selected_text    1\n",
       "sentiment        0\n",
       "dtype: int64"
      ]
     },
     "execution_count": 10,
     "metadata": {},
     "output_type": "execute_result"
    }
   ],
   "source": [
    "df.isnull().sum()"
   ]
  },
  {
   "cell_type": "code",
   "execution_count": 11,
   "id": "0e436c56",
   "metadata": {},
   "outputs": [],
   "source": [
    "df.dropna(subset=['text','sentiment'], inplace = True)"
   ]
  },
  {
   "cell_type": "code",
   "execution_count": 16,
   "id": "03b607c0",
   "metadata": {},
   "outputs": [
    {
     "data": {
      "text/plain": [
       "array([' I`d have responded, if I were going',\n",
       "       ' Sooo SAD I will miss you here in San Diego!!!',\n",
       "       'my boss is bullying me...', ...,\n",
       "       ' Yay good for both of you. Enjoy the break - you probably need it after such hectic weekend  Take care hun xxxx',\n",
       "       ' But it was worth it  ****.',\n",
       "       '   All this flirting going on - The ATG smiles. Yay.  ((hugs))'],\n",
       "      dtype=object)"
      ]
     },
     "execution_count": 16,
     "metadata": {},
     "output_type": "execute_result"
    }
   ],
   "source": [
    "texts = df['text'].values\n",
    "texts"
   ]
  },
  {
   "cell_type": "code",
   "execution_count": 17,
   "id": "aeeb0df3",
   "metadata": {},
   "outputs": [
    {
     "data": {
      "text/plain": [
       "array(['neutral', 'negative', 'negative', ..., 'positive', 'positive',\n",
       "       'neutral'], dtype=object)"
      ]
     },
     "execution_count": 17,
     "metadata": {},
     "output_type": "execute_result"
    }
   ],
   "source": [
    "sentiments = df['sentiment'].values\n",
    "sentiments"
   ]
  },
  {
   "cell_type": "code",
   "execution_count": null,
   "id": "f0c66f6c",
   "metadata": {},
   "outputs": [],
   "source": [
    "# Step 3: Encode Labels"
   ]
  },
  {
   "cell_type": "code",
   "execution_count": 14,
   "id": "085274c3",
   "metadata": {},
   "outputs": [],
   "source": [
    "le = LabelEncoder()\n",
    "\n",
    "labels = le.fit_transform(sentiments)\n",
    "print(labels)"
   ]
  },
  {
   "cell_type": "code",
   "execution_count": 15,
   "id": "9897fe3c",
   "metadata": {},
   "outputs": [
    {
     "name": "stdout",
     "output_type": "stream",
     "text": [
      "[1 0 0 ... 2 2 1]\n"
     ]
    }
   ],
   "source": [
    "y= to_categorical(labels)"
   ]
  },
  {
   "cell_type": "code",
   "execution_count": 19,
   "id": "7b813df7",
   "metadata": {},
   "outputs": [],
   "source": [
    "# Step 4: Text Preprocessing"
   ]
  },
  {
   "cell_type": "code",
   "execution_count": 23,
   "id": "23be5b84",
   "metadata": {},
   "outputs": [],
   "source": [
    "tokenizer = Tokenizer(num_words = 1000, oov_token='<OOV>')\n",
    "\n",
    "tokenizer.fit_on_texts(texts)\n",
    "\n",
    "sequences = tokenizer.texts_to_sequences(texts)\n",
    "\n",
    "x = pad_sequences(sequences, maxlen= 100)"
   ]
  },
  {
   "cell_type": "code",
   "execution_count": 24,
   "id": "a072e577",
   "metadata": {},
   "outputs": [],
   "source": [
    "# Step 5: Train/Test Split"
   ]
  },
  {
   "cell_type": "code",
   "execution_count": 26,
   "id": "3ce46a65",
   "metadata": {},
   "outputs": [],
   "source": [
    "X_train, X_test, y_train, y_test = train_test_split(x, y, test_size=0.2, random_state=42)\n"
   ]
  },
  {
   "cell_type": "code",
   "execution_count": 31,
   "id": "6786f387",
   "metadata": {},
   "outputs": [],
   "source": [
    "model = Sequential([\n",
    "    Embedding(input_dim = 1000,output_dim=2, input_length=100),\n",
    "    SimpleRNN(32),\n",
    "    Dense(3, activation= 'softmax')\n",
    "])"
   ]
  },
  {
   "cell_type": "code",
   "execution_count": 32,
   "id": "1cb456be",
   "metadata": {},
   "outputs": [],
   "source": [
    "model.compile(optimizer='adam', loss='categorical_crossentropy', metrics=['accuracy'])"
   ]
  },
  {
   "cell_type": "code",
   "execution_count": 33,
   "id": "9371056f",
   "metadata": {},
   "outputs": [
    {
     "name": "stdout",
     "output_type": "stream",
     "text": [
      "Epoch 1/3\n",
      "\u001b[1m310/310\u001b[0m \u001b[32m━━━━━━━━━━━━━━━━━━━━\u001b[0m\u001b[37m\u001b[0m \u001b[1m5s\u001b[0m 12ms/step - accuracy: 0.3905 - loss: 1.0897 - val_accuracy: 0.4206 - val_loss: 1.0715\n",
      "Epoch 2/3\n",
      "\u001b[1m310/310\u001b[0m \u001b[32m━━━━━━━━━━━━━━━━━━━━\u001b[0m\u001b[37m\u001b[0m \u001b[1m5s\u001b[0m 12ms/step - accuracy: 0.4550 - loss: 1.0410 - val_accuracy: 0.5871 - val_loss: 0.8943\n",
      "Epoch 3/3\n",
      "\u001b[1m310/310\u001b[0m \u001b[32m━━━━━━━━━━━━━━━━━━━━\u001b[0m\u001b[37m\u001b[0m \u001b[1m4s\u001b[0m 12ms/step - accuracy: 0.6407 - loss: 0.8177 - val_accuracy: 0.5739 - val_loss: 0.9195\n"
     ]
    },
    {
     "data": {
      "text/plain": [
       "<keras.src.callbacks.history.History at 0x1d82c4975e0>"
      ]
     },
     "execution_count": 33,
     "metadata": {},
     "output_type": "execute_result"
    }
   ],
   "source": [
    "model.fit(X_train, y_train, epochs=3, batch_size=64, validation_split=0.1)"
   ]
  },
  {
   "cell_type": "code",
   "execution_count": 36,
   "id": "67b304d1",
   "metadata": {},
   "outputs": [
    {
     "name": "stdout",
     "output_type": "stream",
     "text": [
      "\u001b[1m7/7\u001b[0m \u001b[32m━━━━━━━━━━━━━━━━━━━━\u001b[0m\u001b[37m\u001b[0m \u001b[1m0s\u001b[0m 4ms/step \n"
     ]
    }
   ],
   "source": [
    "pred_probs = model.predict(x[:200])  # Limit to 200 for clarity in graph\n",
    "pred_labels = np.argmax(pred_probs, axis=1)\n",
    "\n",
    "pred_sentiments = le.inverse_transform(pred_labels)\n"
   ]
  },
  {
   "cell_type": "code",
   "execution_count": 45,
   "id": "3994625e",
   "metadata": {},
   "outputs": [],
   "source": [
    "# Sample 10 tweets\n",
    "sample_tweets = df['text'].values[:10]\n",
    "sample_sequences = x[:10]\n"
   ]
  },
  {
   "cell_type": "code",
   "execution_count": 49,
   "id": "5d1e4aa6",
   "metadata": {},
   "outputs": [
    {
     "name": "stdout",
     "output_type": "stream",
     "text": [
      "\u001b[1m1/1\u001b[0m \u001b[32m━━━━━━━━━━━━━━━━━━━━\u001b[0m\u001b[37m\u001b[0m \u001b[1m0s\u001b[0m 32ms/step\n"
     ]
    }
   ],
   "source": [
    "preds = np.argmax(model.predict(sample_sequences), axis=1)\n",
    "pred_sentiments = le.inverse_transform(preds)\n"
   ]
  },
  {
   "cell_type": "code",
   "execution_count": 50,
   "id": "15ac32b8",
   "metadata": {},
   "outputs": [],
   "source": [
    "# Step 8: Build Network Graph"
   ]
  },
  {
   "cell_type": "code",
   "execution_count": 54,
   "id": "6a2f5b32",
   "metadata": {},
   "outputs": [
    {
     "name": "stdout",
     "output_type": "stream",
     "text": [
      "Epoch 1/3\n"
     ]
    },
    {
     "name": "stderr",
     "output_type": "stream",
     "text": [
      "D:\\Users\\shrey\\anaconda3\\lib\\site-packages\\keras\\src\\layers\\core\\embedding.py:90: UserWarning: Argument `input_length` is deprecated. Just remove it.\n",
      "  warnings.warn(\n"
     ]
    },
    {
     "name": "stdout",
     "output_type": "stream",
     "text": [
      "\u001b[1m344/344\u001b[0m \u001b[32m━━━━━━━━━━━━━━━━━━━━\u001b[0m\u001b[37m\u001b[0m \u001b[1m6s\u001b[0m 14ms/step - accuracy: 0.4269 - loss: 1.0608 - val_accuracy: 0.5633 - val_loss: 0.8582\n",
      "Epoch 2/3\n",
      "\u001b[1m344/344\u001b[0m \u001b[32m━━━━━━━━━━━━━━━━━━━━\u001b[0m\u001b[37m\u001b[0m \u001b[1m5s\u001b[0m 14ms/step - accuracy: 0.7100 - loss: 0.7093 - val_accuracy: 0.6579 - val_loss: 0.7741\n",
      "Epoch 3/3\n",
      "\u001b[1m344/344\u001b[0m \u001b[32m━━━━━━━━━━━━━━━━━━━━\u001b[0m\u001b[37m\u001b[0m \u001b[1m5s\u001b[0m 13ms/step - accuracy: 0.8625 - loss: 0.4031 - val_accuracy: 0.6377 - val_loss: 0.8988\n",
      "\u001b[1m1/1\u001b[0m \u001b[32m━━━━━━━━━━━━━━━━━━━━\u001b[0m\u001b[37m\u001b[0m \u001b[1m0s\u001b[0m 79ms/step\n"
     ]
    },
    {
     "data": {
      "image/png": "[encoded data removed]",
      "text/plain": [
       "<Figure size 1200x800 with 1 Axes>"
      ]
     },
     "metadata": {},
     "output_type": "display_data"
    }
   ],
   "source": [
    "\n",
    "\n",
    "# Sample 10 tweets\n",
    "sample_tweets = df['text'].values[:10]\n",
    "sample_sequences = X[:10]\n",
    "\n",
    "# Predict sentiments\n",
    "preds = np.argmax(model.predict(sample_sequences), axis=1)\n",
    "pred_sentiments = le.inverse_transform(preds)\n",
    "\n",
    "# Build Network Graph\n",
    "G = nx.Graph()\n",
    "\n",
    "# Add nodes with sentiment\n",
    "for i, text in enumerate(sample_tweets):\n",
    "    label = f\"Tweet {i+1}\\nSentiment: {pred_sentiments[i]}\"\n",
    "    G.add_node(i, label=label, sentiment=pred_sentiments[i])\n",
    "\n",
    "# Connect nodes with same predicted sentiment\n",
    "for i in range(len(preds)):\n",
    "    for j in range(i+1, len(preds)):\n",
    "        if preds[i] == preds[j]:\n",
    "            G.add_edge(i, j)\n",
    "\n",
    "# Visualize graph\n",
    "pos = nx.spring_layout(G, seed=42)\n",
    "colors = ['green' if G.nodes[n]['sentiment'] == 'positive'\n",
    "          else 'red' if G.nodes[n]['sentiment'] == 'negative'\n",
    "          else 'gray' for n in G.nodes()]\n",
    "labels = nx.get_node_attributes(G, 'label')\n",
    "\n",
    "# plt.figure(figsize=(12, 8))\n",
    "# nx.draw(G, pos, with_labels=True, labels=labels,\n",
    "#         node_color=colors, node_size=1800, font_size=9)\n",
    "# plt.title(\"Tweet Sentiment Network Graph (RNN)\", fontsize=14)\n",
    "# plt.axis('off')\n",
    "# plt.show()\n",
    "\n",
    "fig, ax = plt.subplots(figsize=(12, 8))\n",
    "nx.draw(G, pos, ax=ax, with_labels=True, labels=labels,\n",
    "        node_color=colors, node_size=1800, font_size=9)\n",
    "plt.title(\"Tweet Sentiment Network Graph (RNN)\", fontsize=14)\n",
    "plt.axis('off')\n",
    "plt.show()"
   ]
  },
  {
   "cell_type": "code",
   "execution_count": null,
   "id": "581d9b16",
   "metadata": {},
   "outputs": [],
   "source": []
  }
 ],
 "metadata": {
  "kernelspec": {
   "display_name": "Python 3 (ipykernel)",
   "language": "python",
   "name": "python3"
  },
  "language_info": {
   "codemirror_mode": {
    "name": "ipython",
    "version": 3
   },
   "file_extension": ".py",
   "mimetype": "text/x-python",
   "name": "python",
   "nbconvert_exporter": "python",
   "pygments_lexer": "ipython3",
   "version": "3.12.6"
  }
 },
 "nbformat": 4,
 "nbformat_minor": 5
}
